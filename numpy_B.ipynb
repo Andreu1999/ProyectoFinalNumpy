{
  "nbformat": 4,
  "nbformat_minor": 0,
  "metadata": {
    "colab": {
      "provenance": []
    },
    "kernelspec": {
      "name": "python3",
      "display_name": "Python 3"
    },
    "language_info": {
      "name": "python"
    }
  },
  "cells": [
    {
      "cell_type": "code",
      "execution_count": null,
      "metadata": {
        "id": "n7MBg28tUN2o"
      },
      "outputs": [],
      "source": [
        "import numpy as np\n",
        "\n"
      ]
    },
    {
      "cell_type": "markdown",
      "source": [
        "Vamos a cargar el array de numpy seleccionando las 5 primeras columnas manualmente para evitar problemas con los separadores."
      ],
      "metadata": {
        "id": "879kF6lW80Hg"
      }
    },
    {
      "cell_type": "code",
      "source": [
        "esp=np.loadtxt(\"Speculation_Watch_List.csv\",dtype=str,delimiter=',',usecols=(1,2,3,4,5))\n"
      ],
      "metadata": {
        "id": "Bp3c7K1IUUQs"
      },
      "execution_count": null,
      "outputs": []
    },
    {
      "cell_type": "markdown",
      "source": [
        "Visualizamos las 10 primeras filas de los datos"
      ],
      "metadata": {
        "id": "9WM106jw89mz"
      }
    },
    {
      "cell_type": "code",
      "source": [
        "esp[0:10,]"
      ],
      "metadata": {
        "id": "HMiE4CK3DOy8",
        "colab": {
          "base_uri": "https://localhost:8080/"
        },
        "outputId": "ba7268b6-8393-41cb-8b50-72989c53e020"
      },
      "execution_count": null,
      "outputs": [
        {
          "output_type": "execute_result",
          "data": {
            "text/plain": [
              "array([['boro', 'block', 'lot', 'bbl', 'hnum_lo'],\n",
              "       ['2', '3281', '45', '2032810045', '354'],\n",
              "       ['2', '3281', '50', '2032810050', '366'],\n",
              "       ['2', '2844', '105', '2028440105', '1459'],\n",
              "       ['2', '2551', '8', '2025510008', '574'],\n",
              "       ['3', '5625', '8', '3056250008', '914'],\n",
              "       ['1', '2136', '60', '1021360060', '638'],\n",
              "       ['3', '177', '34', '3001770034', '397'],\n",
              "       ['4', '9236', '38', '4092360038', '84-43'],\n",
              "       ['1', '1615', '11', '1016150011', '19']], dtype='<U23')"
            ]
          },
          "metadata": {},
          "execution_count": 28
        }
      ]
    },
    {
      "cell_type": "markdown",
      "source": [
        "Ahora, vamos a ver qué dimensiones tiene el array para poder calcular posteriormente los estadísticos sin perder información."
      ],
      "metadata": {
        "id": "j8X9pj--9wOa"
      }
    },
    {
      "cell_type": "code",
      "source": [
        "print(np.size(esp[0]))\n",
        "print(np.size(esp[:,0]))"
      ],
      "metadata": {
        "colab": {
          "base_uri": "https://localhost:8080/"
        },
        "id": "YU24sssBcIrr",
        "outputId": "327b5c95-4142-4c71-893d-f134bac9c2c9"
      },
      "execution_count": null,
      "outputs": [
        {
          "output_type": "stream",
          "name": "stdout",
          "text": [
            "5\n",
            "535\n"
          ]
        }
      ]
    },
    {
      "cell_type": "markdown",
      "source": [
        "Creamos los arrays con las diferentes variables que nos interesan y las convertimos a numérico."
      ],
      "metadata": {
        "id": "iv-K2WE8-qBy"
      }
    },
    {
      "cell_type": "code",
      "source": [
        "boro=esp[1:536,0]\n",
        "boro=boro.astype(np.int_)\n",
        "print(boro[0:10])\n",
        "block=esp[1:536,1]\n",
        "block=block.astype(np.int_)\n",
        "print(block[0:10])\n",
        "lot=esp[1:536,2]\n",
        "lot=lot.astype(np.int_)\n",
        "print(lot[0:10])\n",
        "bbl=esp[1:536,3]\n",
        "bbl=bbl.astype(np.int_)\n",
        "print(bbl[0:10])\n"
      ],
      "metadata": {
        "id": "LBAdTf8NcI0S",
        "colab": {
          "base_uri": "https://localhost:8080/"
        },
        "outputId": "bb542a99-3b3c-4ee8-c9f8-7265f82c39ed"
      },
      "execution_count": null,
      "outputs": [
        {
          "output_type": "stream",
          "name": "stdout",
          "text": [
            "[2 2 2 2 3 1 3 4 1 1]\n",
            "[3281 3281 2844 2551 5625 2136  177 9236 1615  274]\n",
            "[ 45  50 105   8   8  60  34  38  11  13]\n",
            "[2032810045 2032810050 2028440105 2025510008 3056250008 1021360060\n",
            " 3001770034 4092360038 1016150011 1002740013]\n"
          ]
        }
      ]
    },
    {
      "cell_type": "markdown",
      "source": [
        "Calculamos los estadísticos que nos interesan."
      ],
      "metadata": {
        "id": "V60ftAKo_N4N"
      }
    },
    {
      "cell_type": "code",
      "source": [
        "print(np.unique(boro))\n",
        "print(np.mean(block))\n",
        "print(np.var(lot))\n",
        "print(np.min(bbl))\n",
        "print(np.max(bbl))"
      ],
      "metadata": {
        "id": "XLmUfif0cI29",
        "colab": {
          "base_uri": "https://localhost:8080/"
        },
        "outputId": "fce8bdc6-78d6-4bb9-bf33-66bcc39b6c59"
      },
      "execution_count": null,
      "outputs": [
        {
          "output_type": "stream",
          "name": "stdout",
          "text": [
            "[1 2 3 4 5]\n",
            "3285.129213483146\n",
            "4009.2696804556103\n",
            "1001990031\n",
            "5010050019\n"
          ]
        }
      ]
    }
  ]
}