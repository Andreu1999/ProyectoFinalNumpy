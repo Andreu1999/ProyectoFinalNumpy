{
  "nbformat": 4,
  "nbformat_minor": 0,
  "metadata": {
    "colab": {
      "provenance": []
    },
    "kernelspec": {
      "name": "python3",
      "display_name": "Python 3"
    },
    "language_info": {
      "name": "python"
    }
  },
  "cells": [
    {
      "cell_type": "code",
      "execution_count": null,
      "metadata": {
        "id": "3fZaUxCBSOe-"
      },
      "outputs": [],
      "source": [
        "import numpy as np"
      ]
    },
    {
      "cell_type": "markdown",
      "source": [
        "Cargamos el dataset en un array de numpy"
      ],
      "metadata": {
        "id": "TIj_OWsi7NV0"
      }
    },
    {
      "cell_type": "code",
      "source": [
        "doc=np.genfromtxt(\"50376.csv\",dtype=str,delimiter=';')\n",
        "doc"
      ],
      "metadata": {
        "colab": {
          "base_uri": "https://localhost:8080/"
        },
        "id": "ks1rwdCTSXSa",
        "outputId": "d49a6e8f-e93f-4052-b7ff-613a6e97f33e"
      },
      "execution_count": null,
      "outputs": [
        {
          "output_type": "execute_result",
          "data": {
            "text/plain": [
              "array([['\\ufeffMunicipios', 'Fenómeno demográfico', 'Total'],\n",
              "       ['07002 Alaior', 'nacidos vivos por residencia materna', '70'],\n",
              "       ['07002 Alaior', 'muertes fetales tardías por residencia materna',\n",
              "        '0'],\n",
              "       ...,\n",
              "       ['07065 Vilafranca de Bonany',\n",
              "        'matrimonios por el lugar en que han fijado residencia', '7'],\n",
              "       ['07065 Vilafranca de Bonany',\n",
              "        'fallecidos por el lugar de residencia', '24'],\n",
              "       ['07065 Vilafranca de Bonany', 'crecimiento vegetativo', '25']],\n",
              "      dtype='<U53')"
            ]
          },
          "metadata": {},
          "execution_count": 2
        }
      ]
    },
    {
      "cell_type": "markdown",
      "source": [
        "Vemos sus dimensiones"
      ],
      "metadata": {
        "id": "HrF0deTI7YeT"
      }
    },
    {
      "cell_type": "code",
      "source": [
        "print(np.size(doc[0]))\n",
        "print(np.size(doc[:,0]))"
      ],
      "metadata": {
        "colab": {
          "base_uri": "https://localhost:8080/"
        },
        "id": "vKT77fyW7JH9",
        "outputId": "1b97566c-31d3-4aba-a2c3-d6c0407d37d1"
      },
      "execution_count": null,
      "outputs": [
        {
          "output_type": "stream",
          "name": "stdout",
          "text": [
            "3\n",
            "336\n"
          ]
        }
      ]
    },
    {
      "cell_type": "markdown",
      "source": [
        "Observamos que tiene 3 columnas y 336 filas. Ahora, vamos a mostrar las 10 primeras filas para ver qué tipo de datos son y si la primera fila son los nombres de las variables"
      ],
      "metadata": {
        "id": "M2574pHL7d6A"
      }
    },
    {
      "cell_type": "code",
      "source": [
        "print(doc[0:10,])"
      ],
      "metadata": {
        "colab": {
          "base_uri": "https://localhost:8080/"
        },
        "id": "5p7dZPeR7JOx",
        "outputId": "fb3aa2cf-cb6b-47c1-d867-196b38a09bac"
      },
      "execution_count": null,
      "outputs": [
        {
          "output_type": "stream",
          "name": "stdout",
          "text": [
            "[['\\ufeffMunicipios' 'Fenómeno demográfico' 'Total']\n",
            " ['07002 Alaior' 'nacidos vivos por residencia materna' '70']\n",
            " ['07002 Alaior' 'muertes fetales tardías por residencia materna' '0']\n",
            " ['07002 Alaior' 'matrimonios por el lugar en que han fijado residencia'\n",
            "  '27']\n",
            " ['07002 Alaior' 'fallecidos por el lugar de residencia' '64']\n",
            " ['07002 Alaior' 'crecimiento vegetativo' '6']\n",
            " ['07001 Alaró' 'nacidos vivos por residencia materna' '47']\n",
            " ['07001 Alaró' 'muertes fetales tardías por residencia materna' '0']\n",
            " ['07001 Alaró' 'matrimonios por el lugar en que han fijado residencia'\n",
            "  '16']\n",
            " ['07001 Alaró' 'fallecidos por el lugar de residencia' '39']]\n"
          ]
        }
      ]
    },
    {
      "cell_type": "markdown",
      "source": [
        "Vemos que la primera fila son los nombres de las variables y que dentro de Fenómeno demográfico hay 5 categorías por pueblo. "
      ],
      "metadata": {
        "id": "LiIXWgSm8Chz"
      }
    },
    {
      "cell_type": "code",
      "source": [
        "docnet=doc[1:336,].reshape(67,15)\n",
        "print(docnet[0:5,])"
      ],
      "metadata": {
        "colab": {
          "base_uri": "https://localhost:8080/"
        },
        "id": "qKO9sc1I7JTt",
        "outputId": "582522ea-81d1-4926-f886-9ede836276d9"
      },
      "execution_count": null,
      "outputs": [
        {
          "output_type": "stream",
          "name": "stdout",
          "text": [
            "[['07002 Alaior' 'nacidos vivos por residencia materna' '70'\n",
            "  '07002 Alaior' 'muertes fetales tardías por residencia materna' '0'\n",
            "  '07002 Alaior' 'matrimonios por el lugar en que han fijado residencia'\n",
            "  '27' '07002 Alaior' 'fallecidos por el lugar de residencia' '64'\n",
            "  '07002 Alaior' 'crecimiento vegetativo' '6']\n",
            " ['07001 Alaró' 'nacidos vivos por residencia materna' '47' '07001 Alaró'\n",
            "  'muertes fetales tardías por residencia materna' '0' '07001 Alaró'\n",
            "  'matrimonios por el lugar en que han fijado residencia' '16'\n",
            "  '07001 Alaró' 'fallecidos por el lugar de residencia' '39'\n",
            "  '07001 Alaró' 'crecimiento vegetativo' '8']\n",
            " ['07003 Alcúdia' 'nacidos vivos por residencia materna' '178'\n",
            "  '07003 Alcúdia' 'muertes fetales tardías por residencia materna' '2'\n",
            "  '07003 Alcúdia' 'matrimonios por el lugar en que han fijado residencia'\n",
            "  '43' '07003 Alcúdia' 'fallecidos por el lugar de residencia' '108'\n",
            "  '07003 Alcúdia' 'crecimiento vegetativo' '70']\n",
            " ['07004 Algaida' 'nacidos vivos por residencia materna' '58'\n",
            "  '07004 Algaida' 'muertes fetales tardías por residencia materna' '1'\n",
            "  '07004 Algaida' 'matrimonios por el lugar en que han fijado residencia'\n",
            "  '18' '07004 Algaida' 'fallecidos por el lugar de residencia' '52'\n",
            "  '07004 Algaida' 'crecimiento vegetativo' '6']\n",
            " ['07005 Andratx' 'nacidos vivos por residencia materna' '109'\n",
            "  '07005 Andratx' 'muertes fetales tardías por residencia materna' '1'\n",
            "  '07005 Andratx' 'matrimonios por el lugar en que han fijado residencia'\n",
            "  '40' '07005 Andratx' 'fallecidos por el lugar de residencia' '103'\n",
            "  '07005 Andratx' 'crecimiento vegetativo' '6']]\n"
          ]
        }
      ]
    },
    {
      "cell_type": "markdown",
      "source": [
        "Con el reshape, hemos conseguido tener todos los valores de cada variable en la misma columna, cosa que nos será muy útil para obtener sus valores más fácilmente.\n",
        "Vamos a generar un vector con el crecimiento vegetativo, nacidos vivos por residencia materna y muertes fetales tardías por residencia materna."
      ],
      "metadata": {
        "id": "oNnpTsgc-Tbi"
      }
    },
    {
      "cell_type": "code",
      "source": [
        "nvprm=docnet[:,2]\n",
        "nvprm = nvprm.astype(np.float_)\n",
        "mftprm=docnet[:,5]\n",
        "mftprm=mftprm.astype(np.float_)\n",
        "crecveg=docnet[:,14]\n",
        "crecveg = crecveg.astype(np.float_)\n",
        "\n",
        "print(nvprm[0:5])\n",
        "print(mftprm[0:5])\n",
        "print(crecveg[0:5])\n"
      ],
      "metadata": {
        "colab": {
          "base_uri": "https://localhost:8080/"
        },
        "id": "RMJ0bKCE-Sjo",
        "outputId": "108fd291-88d4-41a7-8096-38138cd94367"
      },
      "execution_count": null,
      "outputs": [
        {
          "output_type": "stream",
          "name": "stdout",
          "text": [
            "[ 70.  47. 178.  58. 109.]\n",
            "[0. 0. 2. 1. 1.]\n",
            "[ 6.  8. 70.  6.  6.]\n"
          ]
        }
      ]
    },
    {
      "cell_type": "markdown",
      "source": [
        "Vemos que hemos creado correctamente los array y hemos convertido a float sus valores, ahora calculamos algunos estadísticos sobre ellos."
      ],
      "metadata": {
        "id": "vxp1dFUb_EYq"
      }
    },
    {
      "cell_type": "code",
      "source": [
        "print(np.min(crecveg))\n",
        "print(np.max(crecveg))\n",
        "print(np.unique(mftprm))\n",
        "print(np.mean(mftprm))"
      ],
      "metadata": {
        "colab": {
          "base_uri": "https://localhost:8080/"
        },
        "id": "R3Fnapx97JWD",
        "outputId": "ab1c156e-26d7-436e-f4cb-e8fb7656f195"
      },
      "execution_count": null,
      "outputs": [
        {
          "output_type": "stream",
          "name": "stdout",
          "text": [
            "-42.0\n",
            "119.0\n",
            "[ 0.  1.  2.  3.  4. 16.]\n",
            "0.5970149253731343\n"
          ]
        }
      ]
    }
  ]
}