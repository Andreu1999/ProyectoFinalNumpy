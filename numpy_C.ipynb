{
  "nbformat": 4,
  "nbformat_minor": 0,
  "metadata": {
    "colab": {
      "provenance": []
    },
    "kernelspec": {
      "name": "python3",
      "display_name": "Python 3"
    },
    "language_info": {
      "name": "python"
    }
  },
  "cells": [
    {
      "cell_type": "code",
      "execution_count": null,
      "metadata": {
        "id": "Kqv4c4H7Jg6n"
      },
      "outputs": [],
      "source": [
        "import numpy as np\n",
        "\n"
      ]
    },
    {
      "cell_type": "markdown",
      "source": [
        "Cargamos el dataset en un array de numpy"
      ],
      "metadata": {
        "id": "MsPcM2dvKGMU"
      }
    },
    {
      "cell_type": "code",
      "source": [
        "\n",
        "gob=np.genfromtxt(\"gov_10a_exp_page_linear.csv\",dtype=str,delimiter=',')\n",
        "\n",
        "gob"
      ],
      "metadata": {
        "colab": {
          "base_uri": "https://localhost:8080/"
        },
        "id": "zSCEqJ2VKGha",
        "outputId": "ba57ee8f-063a-4a83-b81e-d31cdbe20981"
      },
      "execution_count": null,
      "outputs": [
        {
          "output_type": "execute_result",
          "data": {
            "text/plain": [
              "array([['DATAFLOW', 'LAST UPDATE', 'freq', ..., 'TIME_PERIOD',\n",
              "        'OBS_VALUE', 'OBS_FLAG'],\n",
              "       ['ESTAT:GOV_10A_EXP$DEFAULTVIEW(1.0)', '14/11/22 23:00:00', 'A',\n",
              "        ..., '2012', '51.2', ''],\n",
              "       ['ESTAT:GOV_10A_EXP$DEFAULTVIEW(1.0)', '14/11/22 23:00:00', 'A',\n",
              "        ..., '2013', '51.6', ''],\n",
              "       ...,\n",
              "       ['ESTAT:GOV_10A_EXP$DEFAULTVIEW(1.0)', '14/11/22 23:00:00', 'A',\n",
              "        ..., '2018', '39.8', ''],\n",
              "       ['ESTAT:GOV_10A_EXP$DEFAULTVIEW(1.0)', '14/11/22 23:00:00', 'A',\n",
              "        ..., '2019', '40.7', ''],\n",
              "       ['ESTAT:GOV_10A_EXP$DEFAULTVIEW(1.0)', '14/11/22 23:00:00', 'A',\n",
              "        ..., '2020', '45.6', '']], dtype='<U34')"
            ]
          },
          "metadata": {},
          "execution_count": 2
        }
      ]
    },
    {
      "cell_type": "markdown",
      "source": [
        "Observamos sus dimensiones para poder trabajar más cómodamente."
      ],
      "metadata": {
        "id": "AlQkPBa-BwOZ"
      }
    },
    {
      "cell_type": "code",
      "source": [
        "print(np.size(gob[0]))\n",
        "print(np.size(gob[:,0]))"
      ],
      "metadata": {
        "colab": {
          "base_uri": "https://localhost:8080/"
        },
        "id": "FkJ4DPJibZFh",
        "outputId": "d50ac7f3-3110-45d6-a864-7dc93b340ab4"
      },
      "execution_count": null,
      "outputs": [
        {
          "output_type": "stream",
          "name": "stdout",
          "text": [
            "11\n",
            "290\n"
          ]
        }
      ]
    },
    {
      "cell_type": "markdown",
      "source": [
        "Vemos que el array gobierno 2 tiene lo que vienen siendo 290 filas y 11 columnas. La primera fila se corresponde a los nombres de las variables. En este caso, vamos a imprimir las diez primeras filas para ver qué variables son numéricas."
      ],
      "metadata": {
        "id": "oJaHwY5bqUiu"
      }
    },
    {
      "cell_type": "code",
      "source": [
        "print(gob[280:290,])"
      ],
      "metadata": {
        "id": "N3fi5O70bZNr",
        "colab": {
          "base_uri": "https://localhost:8080/"
        },
        "outputId": "b75d9a5a-ac8a-42e7-eb1c-f929228f714b"
      },
      "execution_count": null,
      "outputs": [
        {
          "output_type": "stream",
          "name": "stdout",
          "text": [
            "[['ESTAT:GOV_10A_EXP$DEFAULTVIEW(1.0)' '14/11/22 23:00:00' 'A' 'PC_GDP'\n",
            "  'S13' 'TOTAL' 'TE' 'SI' '2020' '51.3' '']\n",
            " ['ESTAT:GOV_10A_EXP$DEFAULTVIEW(1.0)' '14/11/22 23:00:00' 'A' 'PC_GDP'\n",
            "  'S13' 'TOTAL' 'TE' 'SK' '2012' '41.3' '']\n",
            " ['ESTAT:GOV_10A_EXP$DEFAULTVIEW(1.0)' '14/11/22 23:00:00' 'A' 'PC_GDP'\n",
            "  'S13' 'TOTAL' 'TE' 'SK' '2013' '42.6' '']\n",
            " ['ESTAT:GOV_10A_EXP$DEFAULTVIEW(1.0)' '14/11/22 23:00:00' 'A' 'PC_GDP'\n",
            "  'S13' 'TOTAL' 'TE' 'SK' '2014' '43.4' '']\n",
            " ['ESTAT:GOV_10A_EXP$DEFAULTVIEW(1.0)' '14/11/22 23:00:00' 'A' 'PC_GDP'\n",
            "  'S13' 'TOTAL' 'TE' 'SK' '2015' '45.7' '']\n",
            " ['ESTAT:GOV_10A_EXP$DEFAULTVIEW(1.0)' '14/11/22 23:00:00' 'A' 'PC_GDP'\n",
            "  'S13' 'TOTAL' 'TE' 'SK' '2016' '42.7' '']\n",
            " ['ESTAT:GOV_10A_EXP$DEFAULTVIEW(1.0)' '14/11/22 23:00:00' 'A' 'PC_GDP'\n",
            "  'S13' 'TOTAL' 'TE' 'SK' '2017' '39.6' '']\n",
            " ['ESTAT:GOV_10A_EXP$DEFAULTVIEW(1.0)' '14/11/22 23:00:00' 'A' 'PC_GDP'\n",
            "  'S13' 'TOTAL' 'TE' 'SK' '2018' '39.8' '']\n",
            " ['ESTAT:GOV_10A_EXP$DEFAULTVIEW(1.0)' '14/11/22 23:00:00' 'A' 'PC_GDP'\n",
            "  'S13' 'TOTAL' 'TE' 'SK' '2019' '40.7' '']\n",
            " ['ESTAT:GOV_10A_EXP$DEFAULTVIEW(1.0)' '14/11/22 23:00:00' 'A' 'PC_GDP'\n",
            "  'S13' 'TOTAL' 'TE' 'SK' '2020' '45.6' '']]\n"
          ]
        }
      ]
    },
    {
      "cell_type": "markdown",
      "source": [
        "Vemos que tenemos como variables numéricas útiles OBS_VALUE,ya que es el valor de cierto parámetro numérico en el momento seleccionado. Para ello, vamos a calcular el array de valores del año 2012 y por otro lado, calcularemos estadísticos generales sobre todos los valores de OBS_VALUE"
      ],
      "metadata": {
        "id": "AgREC-bWq3o9"
      }
    },
    {
      "cell_type": "code",
      "source": [
        "gobnet=gob[1:290,:]\n",
        "añosvalue=gobnet[:,8:10]\n",
        "añosvalue=np.append(añosvalue,values=[0,0]).reshape(29,20)\n",
        "val2012=añosvalue[:,1]\n",
        "print(val2012)\n",
        "\n",
        "\n",
        "\n",
        "\n",
        "obsvalue=gobnet[:,9]\n",
        "print(type(obsvalue[0]))\n",
        "obsvalue = obsvalue.astype(np.float_)\n",
        "print(np.mean(obsvalue))\n",
        "print(np.var(obsvalue))\n",
        "print(np.sort(obsvalue))\n",
        "\n",
        "\n"
      ],
      "metadata": {
        "id": "HcGMf1oabZQV",
        "colab": {
          "base_uri": "https://localhost:8080/"
        },
        "outputId": "66e0867d-0a88-4a3e-f7b1-2926759d5a0f"
      },
      "execution_count": null,
      "outputs": [
        {
          "output_type": "stream",
          "name": "stdout",
          "text": [
            "['51.2' '56.5' '37.8' '32.9' '40.6' '39.8' '44.2' '50.5' '46.9' '45.9'\n",
            " '48.7' '49.6' '57.3' '56.8' '46.9' '46.7' '25.3' '43.3' '57.1' '41.8'\n",
            " '38.5' '40.2' '44.7' '51.5' '41.3' '43.2' '36.0' '52.1' '41.3']\n",
            "<class 'numpy.str_'>\n",
            "45.27439446366782\n",
            "50.89650698626693\n",
            "[24.2 25.3 26.2 27.4 28.1 29.1 32.4 32.5 32.8 32.9 33.2 33.2 33.3 33.3\n",
            " 33.3 33.6 34.  34.2 34.3 34.4 34.5 34.7 34.8 34.8 34.8 35.  35.2 35.4\n",
            " 35.5 35.6 35.7 36.  36.  36.  36.  36.2 36.2 36.4 36.5 36.9 37.4 37.5\n",
            " 37.6 37.8 37.8 37.8 38.2 38.4 38.4 38.5 38.5 38.6 38.7 38.8 38.9 39.\n",
            " 39.2 39.2 39.3 39.4 39.4 39.4 39.5 39.6 39.8 39.8 40.  40.2 40.4 40.4\n",
            " 40.6 40.6 40.6 40.6 40.7 40.8 41.1 41.1 41.2 41.2 41.3 41.3 41.3 41.5\n",
            " 41.5 41.7 41.7 41.8 41.8 41.8 41.9 42.  42.1 42.1 42.1 42.2 42.2 42.4\n",
            " 42.4 42.5 42.5 42.6 42.6 42.6 42.7 42.7 42.7 42.9 42.9 43.  43.  43.1\n",
            " 43.1 43.2 43.2 43.3 43.3 43.3 43.4 43.5 43.5 43.6 43.8 43.9 44.1 44.1\n",
            " 44.2 44.3 44.3 44.4 44.4 44.4 44.7 44.7 44.7 44.8 44.9 44.9 45.  45.1\n",
            " 45.1 45.4 45.5 45.6 45.7 45.7 45.8 45.8 45.9 45.9 45.9 46.  46.  46.1\n",
            " 46.2 46.3 46.4 46.5 46.5 46.6 46.7 46.7 46.8 46.9 46.9 46.9 46.9 47.1\n",
            " 47.2 47.2 47.4 47.7 47.7 47.9 48.  48.1 48.2 48.2 48.3 48.4 48.4 48.4\n",
            " 48.5 48.5 48.5 48.6 48.7 48.7 48.7 48.7 48.8 48.8 48.8 48.9 49.  49.1\n",
            " 49.1 49.1 49.2 49.3 49.3 49.3 49.3 49.3 49.4 49.4 49.5 49.6 49.7 49.7\n",
            " 49.9 49.9 49.9 49.9 50.  50.  50.  50.1 50.3 50.4 50.5 50.5 50.5 50.5\n",
            " 50.6 50.7 50.7 50.8 50.8 50.9 51.  51.  51.1 51.2 51.3 51.5 51.6 51.6\n",
            " 51.6 51.7 51.7 51.8 52.  52.1 52.2 52.4 52.4 52.5 52.9 53.1 53.3 53.3\n",
            " 53.4 53.5 53.6 53.7 54.1 54.5 54.5 55.2 55.4 55.4 55.6 55.6 55.6 55.8\n",
            " 56.  56.1 56.5 56.5 56.5 56.7 56.7 56.7 56.8 56.8 57.1 57.1 57.2 57.2\n",
            " 57.3 57.5 58.  58.5 59.2 59.8 60.3 61.6 62.8]\n"
          ]
        }
      ]
    },
    {
      "cell_type": "markdown",
      "source": [
        "Vemos que la media de OBS_VALUE es de 45.27 con una varianza de 50.90, también hemos enseñado el array ordenado."
      ],
      "metadata": {
        "id": "Y03iDSXy1lzW"
      }
    }
  ]
}